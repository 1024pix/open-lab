{
 "cells": [
  {
   "cell_type": "markdown",
   "metadata": {},
   "source": [
    "# Navigation dans les données de Pix"
   ]
  },
  {
   "cell_type": "code",
   "execution_count": 1,
   "metadata": {},
   "outputs": [
    {
     "name": "stderr",
     "output_type": "stream",
     "text": [
      "INFO:root:Loaded skills with ['id', 'name', 'pixValue', 'competenceId']\n",
      "INFO:root:Loaded usersData with ['userId', 'knowledgeElements']\n",
      "INFO:root:Loaded challenges with ['id', 'competenceId', 'status', 'type', 'skills']\n"
     ]
    },
    {
     "data": {
      "text/html": [
       "<div>\n",
       "<style scoped>\n",
       "    .dataframe tbody tr th:only-of-type {\n",
       "        vertical-align: middle;\n",
       "    }\n",
       "\n",
       "    .dataframe tbody tr th {\n",
       "        vertical-align: top;\n",
       "    }\n",
       "\n",
       "    .dataframe thead th {\n",
       "        text-align: right;\n",
       "    }\n",
       "</style>\n",
       "<table border=\"1\" class=\"dataframe\">\n",
       "  <thead>\n",
       "    <tr style=\"text-align: right;\">\n",
       "      <th></th>\n",
       "      <th>userId</th>\n",
       "      <th>skillId</th>\n",
       "      <th>status</th>\n",
       "      <th>source</th>\n",
       "      <th>createdAt</th>\n",
       "      <th>outcome</th>\n",
       "    </tr>\n",
       "  </thead>\n",
       "  <tbody>\n",
       "    <tr>\n",
       "      <th>0</th>\n",
       "      <td>8b302831192628f1b181efaa948d941a</td>\n",
       "      <td>0f62228041f4c7422886ae29cca44653240f42fe802956...</td>\n",
       "      <td>validated</td>\n",
       "      <td>inferred</td>\n",
       "      <td>2019-07-24T09:43:28.725Z</td>\n",
       "      <td>1.0</td>\n",
       "    </tr>\n",
       "    <tr>\n",
       "      <th>1</th>\n",
       "      <td>8b302831192628f1b181efaa948d941a</td>\n",
       "      <td>ab48a9648bb9a746a4e156262f9eba1afe7faa0804b139...</td>\n",
       "      <td>validated</td>\n",
       "      <td>direct</td>\n",
       "      <td>2019-07-24T09:43:28.725Z</td>\n",
       "      <td>1.0</td>\n",
       "    </tr>\n",
       "    <tr>\n",
       "      <th>2</th>\n",
       "      <td>8b302831192628f1b181efaa948d941a</td>\n",
       "      <td>3a61f48b56516449d43fff3e011519dfd6fcbe09acc096...</td>\n",
       "      <td>validated</td>\n",
       "      <td>inferred</td>\n",
       "      <td>2019-07-24T09:45:23.642Z</td>\n",
       "      <td>1.0</td>\n",
       "    </tr>\n",
       "    <tr>\n",
       "      <th>3</th>\n",
       "      <td>8b302831192628f1b181efaa948d941a</td>\n",
       "      <td>dd486fefe10dc076952b933f30cdd5f743251894eecb4b...</td>\n",
       "      <td>validated</td>\n",
       "      <td>direct</td>\n",
       "      <td>2019-07-24T09:45:23.642Z</td>\n",
       "      <td>1.0</td>\n",
       "    </tr>\n",
       "    <tr>\n",
       "      <th>4</th>\n",
       "      <td>8b302831192628f1b181efaa948d941a</td>\n",
       "      <td>e9d368b8202504b3e9d46098bbfd357cb05661eb015ffa...</td>\n",
       "      <td>validated</td>\n",
       "      <td>inferred</td>\n",
       "      <td>2019-07-24T09:45:23.642Z</td>\n",
       "      <td>1.0</td>\n",
       "    </tr>\n",
       "  </tbody>\n",
       "</table>\n",
       "</div>"
      ],
      "text/plain": [
       "                             userId  \\\n",
       "0  8b302831192628f1b181efaa948d941a   \n",
       "1  8b302831192628f1b181efaa948d941a   \n",
       "2  8b302831192628f1b181efaa948d941a   \n",
       "3  8b302831192628f1b181efaa948d941a   \n",
       "4  8b302831192628f1b181efaa948d941a   \n",
       "\n",
       "                                             skillId     status    source  \\\n",
       "0  0f62228041f4c7422886ae29cca44653240f42fe802956...  validated  inferred   \n",
       "1  ab48a9648bb9a746a4e156262f9eba1afe7faa0804b139...  validated    direct   \n",
       "2  3a61f48b56516449d43fff3e011519dfd6fcbe09acc096...  validated  inferred   \n",
       "3  dd486fefe10dc076952b933f30cdd5f743251894eecb4b...  validated    direct   \n",
       "4  e9d368b8202504b3e9d46098bbfd357cb05661eb015ffa...  validated  inferred   \n",
       "\n",
       "                  createdAt  outcome  \n",
       "0  2019-07-24T09:43:28.725Z      1.0  \n",
       "1  2019-07-24T09:43:28.725Z      1.0  \n",
       "2  2019-07-24T09:45:23.642Z      1.0  \n",
       "3  2019-07-24T09:45:23.642Z      1.0  \n",
       "4  2019-07-24T09:45:23.642Z      1.0  "
      ]
     },
     "execution_count": 1,
     "metadata": {},
     "output_type": "execute_result"
    }
   ],
   "source": [
    "import logging\n",
    "logger = logging.getLogger()\n",
    "logger.setLevel(logging.INFO)\n",
    "\n",
    "from import_data import import_data, make_df, make_df_skills\n",
    "\n",
    "data = import_data()\n",
    "df = make_df(data)\n",
    "df.head()"
   ]
  },
  {
   "cell_type": "markdown",
   "metadata": {},
   "source": [
    "Décrire le contenu d'une variable."
   ]
  },
  {
   "cell_type": "code",
   "execution_count": 2,
   "metadata": {},
   "outputs": [
    {
     "data": {
      "text/plain": [
       "validated      995480\n",
       "invalidated    546528\n",
       "reset           13122\n",
       "Name: status, dtype: int64"
      ]
     },
     "execution_count": 2,
     "metadata": {},
     "output_type": "execute_result"
    }
   ],
   "source": [
    "df.status.value_counts()"
   ]
  },
  {
   "cell_type": "markdown",
   "metadata": {},
   "source": [
    "## Distribution des taux de succès"
   ]
  },
  {
   "cell_type": "code",
   "execution_count": 3,
   "metadata": {},
   "outputs": [
    {
     "data": {
      "text/plain": [
       "<matplotlib.axes._subplots.AxesSubplot at 0x7f4c7c4e0b90>"
      ]
     },
     "execution_count": 3,
     "metadata": {},
     "output_type": "execute_result"
    },
    {
     "data": {
      "image/png": "[encoded data removed]",
      "text/plain": [
       "<Figure size 432x288 with 1 Axes>"
      ]
     },
     "metadata": {
      "needs_background": "light"
     },
     "output_type": "display_data"
    }
   ],
   "source": [
    "success_rate = df.query('source == \"direct\"').groupby('userId')['outcome'].mean()\n",
    "success_rate.plot.hist(bins=50)"
   ]
  },
  {
   "cell_type": "code",
   "execution_count": 4,
   "metadata": {},
   "outputs": [
    {
     "data": {
      "text/plain": [
       "0.6078896432195449"
      ]
     },
     "execution_count": 4,
     "metadata": {},
     "output_type": "execute_result"
    }
   ],
   "source": [
    "success_rate.mean()"
   ]
  },
  {
   "cell_type": "markdown",
   "metadata": {},
   "source": [
    "Les utilisateurs réussissent 61 % du temps."
   ]
  },
  {
   "cell_type": "code",
   "execution_count": 5,
   "metadata": {},
   "outputs": [
    {
     "data": {
      "text/plain": [
       "<matplotlib.axes._subplots.AxesSubplot at 0x7f4c79752f90>"
      ]
     },
     "execution_count": 5,
     "metadata": {},
     "output_type": "execute_result"
    },
    {
     "data": {
      "image/png": "[encoded data removed]",
      "text/plain": [
       "<Figure size 432x288 with 1 Axes>"
      ]
     },
     "metadata": {
      "needs_background": "light"
     },
     "output_type": "display_data"
    }
   ],
   "source": [
    "df.query('source == \"direct\"').groupby('userId')['outcome'].mean().plot.hist(bins=50)\n",
    "df.groupby('userId')['outcome'].mean().plot.hist(bins=50)  # En comptant les acquis inférés "
   ]
  },
  {
   "cell_type": "markdown",
   "metadata": {},
   "source": [
    "## Se limiter à une compétence"
   ]
  },
  {
   "cell_type": "code",
   "execution_count": 6,
   "metadata": {},
   "outputs": [
    {
     "data": {
      "text/html": [
       "<div>\n",
       "<style scoped>\n",
       "    .dataframe tbody tr th:only-of-type {\n",
       "        vertical-align: middle;\n",
       "    }\n",
       "\n",
       "    .dataframe tbody tr th {\n",
       "        vertical-align: top;\n",
       "    }\n",
       "\n",
       "    .dataframe thead th {\n",
       "        text-align: right;\n",
       "    }\n",
       "</style>\n",
       "<table border=\"1\" class=\"dataframe\">\n",
       "  <thead>\n",
       "    <tr style=\"text-align: right;\">\n",
       "      <th></th>\n",
       "      <th>id</th>\n",
       "      <th>name</th>\n",
       "      <th>pixValue</th>\n",
       "      <th>competenceId</th>\n",
       "      <th>tube</th>\n",
       "      <th>level</th>\n",
       "      <th>maxLevel</th>\n",
       "      <th>nb_inval</th>\n",
       "      <th>nb_val</th>\n",
       "    </tr>\n",
       "  </thead>\n",
       "  <tbody>\n",
       "    <tr>\n",
       "      <th>317</th>\n",
       "      <td>55711e040cd06d74aa5e9f88abd661ecd4db115042143a...</td>\n",
       "      <td>@addition1</td>\n",
       "      <td>1.600000</td>\n",
       "      <td>4b57d627d9360d14d6e4e82cadcc3ad158acd591851680...</td>\n",
       "      <td>addition</td>\n",
       "      <td>1</td>\n",
       "      <td>6</td>\n",
       "      <td>6</td>\n",
       "      <td>1</td>\n",
       "    </tr>\n",
       "    <tr>\n",
       "      <th>289</th>\n",
       "      <td>d9b23f4d3ddc26a132caf417330df05f738403e3694ffa...</td>\n",
       "      <td>@addition2</td>\n",
       "      <td>1.142857</td>\n",
       "      <td>4b57d627d9360d14d6e4e82cadcc3ad158acd591851680...</td>\n",
       "      <td>addition</td>\n",
       "      <td>2</td>\n",
       "      <td>6</td>\n",
       "      <td>5</td>\n",
       "      <td>2</td>\n",
       "    </tr>\n",
       "    <tr>\n",
       "      <th>301</th>\n",
       "      <td>5134fdb9df3163305f6b2de420c10c748b9b4f4832603d...</td>\n",
       "      <td>@addition3</td>\n",
       "      <td>0.800000</td>\n",
       "      <td>4b57d627d9360d14d6e4e82cadcc3ad158acd591851680...</td>\n",
       "      <td>addition</td>\n",
       "      <td>3</td>\n",
       "      <td>6</td>\n",
       "      <td>4</td>\n",
       "      <td>3</td>\n",
       "    </tr>\n",
       "    <tr>\n",
       "      <th>306</th>\n",
       "      <td>a217ab874dc194b384393507d7c88f755b850f81b70ed2...</td>\n",
       "      <td>@addition4</td>\n",
       "      <td>0.727273</td>\n",
       "      <td>4b57d627d9360d14d6e4e82cadcc3ad158acd591851680...</td>\n",
       "      <td>addition</td>\n",
       "      <td>4</td>\n",
       "      <td>6</td>\n",
       "      <td>3</td>\n",
       "      <td>4</td>\n",
       "    </tr>\n",
       "    <tr>\n",
       "      <th>321</th>\n",
       "      <td>9347594417b239234329f20be5a8d2bb56ab68afbf2539...</td>\n",
       "      <td>@addition5</td>\n",
       "      <td>1.000000</td>\n",
       "      <td>4b57d627d9360d14d6e4e82cadcc3ad158acd591851680...</td>\n",
       "      <td>addition</td>\n",
       "      <td>5</td>\n",
       "      <td>6</td>\n",
       "      <td>2</td>\n",
       "      <td>5</td>\n",
       "    </tr>\n",
       "  </tbody>\n",
       "</table>\n",
       "</div>"
      ],
      "text/plain": [
       "                                                    id        name  pixValue  \\\n",
       "317  55711e040cd06d74aa5e9f88abd661ecd4db115042143a...  @addition1  1.600000   \n",
       "289  d9b23f4d3ddc26a132caf417330df05f738403e3694ffa...  @addition2  1.142857   \n",
       "301  5134fdb9df3163305f6b2de420c10c748b9b4f4832603d...  @addition3  0.800000   \n",
       "306  a217ab874dc194b384393507d7c88f755b850f81b70ed2...  @addition4  0.727273   \n",
       "321  9347594417b239234329f20be5a8d2bb56ab68afbf2539...  @addition5  1.000000   \n",
       "\n",
       "                                          competenceId      tube  level  \\\n",
       "317  4b57d627d9360d14d6e4e82cadcc3ad158acd591851680...  addition      1   \n",
       "289  4b57d627d9360d14d6e4e82cadcc3ad158acd591851680...  addition      2   \n",
       "301  4b57d627d9360d14d6e4e82cadcc3ad158acd591851680...  addition      3   \n",
       "306  4b57d627d9360d14d6e4e82cadcc3ad158acd591851680...  addition      4   \n",
       "321  4b57d627d9360d14d6e4e82cadcc3ad158acd591851680...  addition      5   \n",
       "\n",
       "     maxLevel  nb_inval  nb_val  \n",
       "317         6         6       1  \n",
       "289         6         5       2  \n",
       "301         6         4       3  \n",
       "306         6         3       4  \n",
       "321         6         2       5  "
      ]
     },
     "execution_count": 6,
     "metadata": {},
     "output_type": "execute_result"
    }
   ],
   "source": [
    "skills = make_df_skills(data)\n",
    "skills.head()"
   ]
  },
  {
   "cell_type": "code",
   "execution_count": 7,
   "metadata": {},
   "outputs": [],
   "source": [
    "onecomp = skills['competenceId'][0]\n",
    "interesting = skills.query('competenceId == @onecomp')['id']"
   ]
  },
  {
   "cell_type": "code",
   "execution_count": 8,
   "metadata": {},
   "outputs": [],
   "source": [
    "subset = df.query('skillId in @interesting')"
   ]
  },
  {
   "cell_type": "code",
   "execution_count": 9,
   "metadata": {},
   "outputs": [],
   "source": [
    "from collections import defaultdict\n",
    "import numpy as np\n",
    "\n",
    "assessments = defaultdict(str)\n",
    "for userId, outcome in zip(subset['userId'], subset['outcome']):\n",
    "    if not np.isnan(outcome):\n",
    "        assessments[userId] += str(int(outcome))"
   ]
  },
  {
   "cell_type": "code",
   "execution_count": 10,
   "metadata": {},
   "outputs": [
    {
     "data": {
      "image/png": "[encoded data removed]",
      "text/plain": [
       "<Figure size 432x288 with 1 Axes>"
      ]
     },
     "metadata": {
      "needs_background": "light"
     },
     "output_type": "display_data"
    }
   ],
   "source": [
    "%matplotlib inline\n",
    "import matplotlib.pyplot as plt\n",
    "\n",
    "plt.hist([len(pattern) for _, pattern in assessments.items()], bins=50)\n",
    "plt.show()"
   ]
  },
  {
   "cell_type": "code",
   "execution_count": 11,
   "metadata": {},
   "outputs": [
    {
     "data": {
      "text/plain": [
       "44.98"
      ]
     },
     "execution_count": 11,
     "metadata": {},
     "output_type": "execute_result"
    }
   ],
   "source": [
    "np.mean([len(pattern) for _, pattern in assessments.items()])"
   ]
  },
  {
   "cell_type": "code",
   "execution_count": 12,
   "metadata": {},
   "outputs": [
    {
     "data": {
      "text/plain": [
       "2276"
      ]
     },
     "execution_count": 12,
     "metadata": {},
     "output_type": "execute_result"
    }
   ],
   "source": [
    "from collections import Counter\n",
    "Counter([len(pattern) for _, pattern in assessments.items()])[44]"
   ]
  },
  {
   "cell_type": "markdown",
   "metadata": {},
   "source": [
    "Il y a 2276 utilisateurs qui ont donné 44 réponses pour cette compétence."
   ]
  }
 ],
 "metadata": {
  "kernelspec": {
   "display_name": "Python 3",
   "language": "python",
   "name": "python3"
  },
  "language_info": {
   "codemirror_mode": {
    "name": "ipython",
    "version": 3
   },
   "file_extension": ".py",
   "mimetype": "text/x-python",
   "name": "python",
   "nbconvert_exporter": "python",
   "pygments_lexer": "ipython3",
   "version": "3.7.5"
  }
 },
 "nbformat": 4,
 "nbformat_minor": 4
}
